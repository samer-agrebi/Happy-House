{
  "nbformat": 4,
  "nbformat_minor": 0,
  "metadata": {
    "colab": {
      "name": "ToDo_CP_Happy_house (2).ipynb",
      "provenance": [],
      "collapsed_sections": []
    },
    "kernelspec": {
      "name": "python3",
      "display_name": "Python 3"
    }
  },
  "cells": [
    {
      "cell_type": "markdown",
      "metadata": {
        "id": "2th5H5b1hbcS"
      },
      "source": [
        "# If you happy and I know it you can enter my House \n",
        "\n",
        "You'll see how you can in a couple of hours build a deep learning algorithm."
      ]
    },
    {
      "cell_type": "code",
      "metadata": {
        "id": "MuU-RPhvflcW"
      },
      "source": [
        "import keras \n",
        "import numpy as np\n",
        "from sklearn.metrics import confusion_matrix\n",
        "import seaborn as sns\n",
        "import h5py\n",
        "from keras import layers\n",
        "\n",
        "from keras.layers import Input, Dense, Activation, ZeroPadding2D, BatchNormalization, Flatten, Conv2D\n",
        "from keras.layers import AveragePooling2D, MaxPooling2D, Dropout, GlobalMaxPooling2D, GlobalAveragePooling2D\n",
        "from keras.models import Model\n",
        "from keras.preprocessing import image\n",
        "from keras.utils import layer_utils\n",
        "from keras.utils.data_utils import get_file\n",
        "from keras.applications.imagenet_utils import preprocess_input\n",
        "from keras.models import Sequential\n",
        "\n",
        "import pydot\n",
        "from IPython.display import SVG\n",
        "\n",
        "\n",
        "import keras.backend as K\n",
        "K.set_image_data_format('channels_last')\n",
        "import matplotlib.pyplot as plt\n",
        "from matplotlib.pyplot import imshow\n"
      ],
      "execution_count": 39,
      "outputs": []
    },
    {
      "cell_type": "code",
      "metadata": {
        "id": "4Z7gBX7YfTRL"
      },
      "source": [
        "def load_dataset(path_to_train, path_to_test):\n",
        "    train_dataset = h5py.File(path_to_train)\n",
        "    train_x = np.array(train_dataset['train_set_x'][:])\n",
        "    train_y = np.array(train_dataset['train_set_y'][:])\n",
        "\n",
        "    test_dataset = h5py.File(path_to_test)\n",
        "    test_x = np.array(test_dataset['test_set_x'][:])\n",
        "    test_y = np.array(test_dataset['test_set_y'][:])\n",
        "\n",
        "    # y reshaped\n",
        "    train_y = train_y.reshape((1, train_x.shape[0]))\n",
        "    test_y = test_y.reshape((1, test_y.shape[0]))\n",
        "\n",
        "    return train_x, train_y, test_x, test_y\n",
        "    "
      ],
      "execution_count": 40,
      "outputs": []
    },
    {
      "cell_type": "code",
      "source": [
        ""
      ],
      "metadata": {
        "id": "9PT1LBQYoI_4"
      },
      "execution_count": 40,
      "outputs": []
    },
    {
      "cell_type": "markdown",
      "metadata": {
        "id": "s0shUMnCg9GK"
      },
      "source": [
        "This dataset can be used to solve the Happy House problem.\n",
        "Where, we allow a person to enter the house only if he/she is smiling!\n",
        "So, a smile detector!\n"
      ]
    },
    {
      "cell_type": "markdown",
      "metadata": {
        "id": "LF7js4UdhO0F"
      },
      "source": [
        "![Texte alternatif…](https://raw.githubusercontent.com/Kulbear/deep-learning-coursera/master/Convolutional%20Neural%20Networks/images/house-members.png)"
      ]
    },
    {
      "cell_type": "markdown",
      "metadata": {
        "id": "roksQQtvizn4"
      },
      "source": [
        "\n",
        "\n",
        "Details of the \"Happy\" dataset:\n",
        "\n",
        "* Images are of shape (64,64,3)\n",
        "* Training: 600 pictures\n",
        "* Test: 150 pictures\n"
      ]
    },
    {
      "cell_type": "markdown",
      "metadata": {
        "id": "z9hCBeyJi--_"
      },
      "source": [
        "# Load Dataset"
      ]
    },
    {
      "cell_type": "code",
      "metadata": {
        "id": "nOZo0cNbg8ts",
        "outputId": "5aafaff4-fdf4-4e39-ea34-a9f68472cdca",
        "colab": {
          "base_uri": "https://localhost:8080/"
        }
      },
      "source": [
        "X_train_orig, Y_train_orig, X_test_orig, Y_test_orig = load_dataset(\"train_happy.h5\",\"test_happy.h5\")\n",
        "\n",
        "# Normalize image vectors\n",
        "X_train = X_train_orig/255.\n",
        "X_test = X_test_orig/255\n",
        "\n",
        "# Reshape\n",
        "Y_train = Y_train_orig.T\n",
        "Y_test = Y_test_orig.T\n",
        "\n",
        "print (\"number of training examples = \" + str(X_train.shape[0]))\n",
        "print (\"number of test examples = \" + str(X_test.shape[0]))\n",
        "print (\"X_train shape: \" + str(X_train.shape))\n",
        "print (\"Y_train shape: \" + str(Y_train.shape))\n",
        "print (\"X_test shape: \" + str(X_test.shape))\n",
        "print (\"Y_test shape: \" + str(Y_test.shape))\n",
        "print(Y_test)"
      ],
      "execution_count": 41,
      "outputs": [
        {
          "output_type": "stream",
          "name": "stdout",
          "text": [
            "number of training examples = 600\n",
            "number of test examples = 150\n",
            "X_train shape: (600, 64, 64, 3)\n",
            "Y_train shape: (600, 1)\n",
            "X_test shape: (150, 64, 64, 3)\n",
            "Y_test shape: (150, 1)\n",
            "[[1]\n",
            " [1]\n",
            " [1]\n",
            " [1]\n",
            " [1]\n",
            " [1]\n",
            " [1]\n",
            " [0]\n",
            " [1]\n",
            " [0]\n",
            " [1]\n",
            " [0]\n",
            " [0]\n",
            " [0]\n",
            " [0]\n",
            " [1]\n",
            " [0]\n",
            " [1]\n",
            " [0]\n",
            " [1]\n",
            " [1]\n",
            " [1]\n",
            " [0]\n",
            " [1]\n",
            " [0]\n",
            " [0]\n",
            " [1]\n",
            " [0]\n",
            " [0]\n",
            " [1]\n",
            " [1]\n",
            " [1]\n",
            " [1]\n",
            " [1]\n",
            " [1]\n",
            " [1]\n",
            " [0]\n",
            " [0]\n",
            " [0]\n",
            " [0]\n",
            " [1]\n",
            " [0]\n",
            " [0]\n",
            " [0]\n",
            " [1]\n",
            " [0]\n",
            " [0]\n",
            " [0]\n",
            " [1]\n",
            " [0]\n",
            " [0]\n",
            " [0]\n",
            " [1]\n",
            " [1]\n",
            " [0]\n",
            " [1]\n",
            " [1]\n",
            " [1]\n",
            " [1]\n",
            " [1]\n",
            " [1]\n",
            " [1]\n",
            " [1]\n",
            " [0]\n",
            " [1]\n",
            " [1]\n",
            " [1]\n",
            " [1]\n",
            " [1]\n",
            " [1]\n",
            " [1]\n",
            " [0]\n",
            " [0]\n",
            " [0]\n",
            " [0]\n",
            " [1]\n",
            " [1]\n",
            " [0]\n",
            " [0]\n",
            " [1]\n",
            " [0]\n",
            " [1]\n",
            " [0]\n",
            " [1]\n",
            " [0]\n",
            " [1]\n",
            " [1]\n",
            " [0]\n",
            " [0]\n",
            " [1]\n",
            " [0]\n",
            " [0]\n",
            " [0]\n",
            " [0]\n",
            " [1]\n",
            " [1]\n",
            " [1]\n",
            " [0]\n",
            " [1]\n",
            " [1]\n",
            " [1]\n",
            " [0]\n",
            " [1]\n",
            " [0]\n",
            " [0]\n",
            " [0]\n",
            " [0]\n",
            " [1]\n",
            " [0]\n",
            " [0]\n",
            " [1]\n",
            " [1]\n",
            " [0]\n",
            " [0]\n",
            " [1]\n",
            " [1]\n",
            " [0]\n",
            " [0]\n",
            " [1]\n",
            " [0]\n",
            " [1]\n",
            " [1]\n",
            " [0]\n",
            " [1]\n",
            " [1]\n",
            " [1]\n",
            " [0]\n",
            " [1]\n",
            " [1]\n",
            " [0]\n",
            " [1]\n",
            " [1]\n",
            " [0]\n",
            " [1]\n",
            " [1]\n",
            " [1]\n",
            " [0]\n",
            " [1]\n",
            " [0]\n",
            " [1]\n",
            " [1]\n",
            " [1]\n",
            " [0]\n",
            " [1]\n",
            " [0]\n",
            " [1]\n",
            " [0]\n",
            " [1]\n",
            " [1]\n",
            " [0]]\n"
          ]
        }
      ]
    },
    {
      "cell_type": "code",
      "metadata": {
        "id": "RALj5hk4gMXB",
        "outputId": "8b7e4d04-cf3b-441e-e433-7d3aa98bda4d",
        "colab": {
          "base_uri": "https://localhost:8080/",
          "height": 303
        }
      },
      "source": [
        "# Sample image from dataset\n",
        "print(\"Image shape :\",X_train_orig[10].shape)\n",
        "imshow(X_train_orig[10])"
      ],
      "execution_count": 26,
      "outputs": [
        {
          "output_type": "stream",
          "name": "stdout",
          "text": [
            "Image shape : (64, 64, 3)\n"
          ]
        },
        {
          "output_type": "execute_result",
          "data": {
            "text/plain": [
              "<matplotlib.image.AxesImage at 0x7f9ab2ac2e10>"
            ]
          },
          "metadata": {},
          "execution_count": 26
        },
        {
          "output_type": "display_data",
          "data": {
            "image/png": "[encoded data removed]",
            "text/plain": [
              "<Figure size 432x288 with 1 Axes>"
            ]
          },
          "metadata": {
            "needs_background": "light"
          }
        }
      ]
    },
    {
      "cell_type": "markdown",
      "metadata": {
        "id": "vQNZh4XxjCiB"
      },
      "source": [
        "# Building Model"
      ]
    },
    {
      "cell_type": "markdown",
      "metadata": {
        "id": "IJJpc1lppa_m"
      },
      "source": [
        "_________________________________________________________________\n",
        "\n",
        "conv2d_3 (Conv2D)            (None, 64, 64, 32)        4736      \n",
        "_________________________________________________________________\n",
        "batch_normalization_2 (Batch (None, 64, 64, 32)        128       \n",
        "_________________________________________________________________\n",
        "max_pooling2d_2 (MaxPooling2 (None, 32, 32, 32)        0         \n",
        "_________________________________________________________________\n",
        "flatten_2 (Flatten)          (None, 32768)             0         \n",
        "_________________________________________________________________\n",
        "dense_2 (Dense)              (None, 1)                 32769     \n",
        "_________________________________________________________________\n",
        "\n"
      ]
    },
    {
      "cell_type": "code",
      "metadata": {
        "id": "j1YT0k2rkvAM"
      },
      "source": [
        "model = Sequential()\n",
        "# add Convolutional layers\n",
        "model.add(Conv2D(filters=16, kernel_size=(3,3), activation='relu', input_shape=(64,64,3)))\n",
        "model.add(BatchNormalization())\n",
        "model.add(MaxPooling2D(pool_size=(2,2)))\n",
        "model.add(Conv2D(filters=32, kernel_size=(3,3), activation='relu'))\n",
        "model.add(BatchNormalization())\n",
        "model.add(MaxPooling2D(pool_size=(2,2)))\n",
        "model.add(Conv2D(filters=64, kernel_size=(3,3), activation='relu'))\n",
        "model.add(BatchNormalization())\n",
        "model.add(MaxPooling2D(pool_size=(2,2)))    \n",
        "model.add(Flatten())\n",
        "#model.add(Dense(128, activation='relu'))\n",
        "# output layer\n",
        "model.add(Dense(1, activation='sigmoid'))"
      ],
      "execution_count": 62,
      "outputs": []
    },
    {
      "cell_type": "code",
      "metadata": {
        "id": "3CtQ3d7pmdEU"
      },
      "source": [
        "#from keras.optimizers import Adam,RMSprop\n",
        "model.compile(optimizer='adam', loss='binary_crossentropy', metrics=[\"accuracy\"])"
      ],
      "execution_count": 63,
      "outputs": []
    },
    {
      "cell_type": "code",
      "metadata": {
        "id": "JJzOsVQnmsz0",
        "outputId": "7daabaf6-6c9d-44a3-f2b9-b2db331a83b7",
        "colab": {
          "base_uri": "https://localhost:8080/"
        }
      },
      "source": [
        "history_model = model.fit(X_train,Y_train,batch_size=15,epochs=15,validation_data=(X_test,Y_test))"
      ],
      "execution_count": 65,
      "outputs": [
        {
          "output_type": "stream",
          "name": "stdout",
          "text": [
            "Epoch 1/15\n",
            "40/40 [==============================] - 7s 168ms/step - loss: 0.0733 - accuracy: 0.9767 - val_loss: 0.9536 - val_accuracy: 0.7333\n",
            "Epoch 2/15\n",
            "40/40 [==============================] - 7s 167ms/step - loss: 0.0288 - accuracy: 0.9933 - val_loss: 0.2503 - val_accuracy: 0.8867\n",
            "Epoch 3/15\n",
            "40/40 [==============================] - 7s 166ms/step - loss: 0.0443 - accuracy: 0.9867 - val_loss: 0.2444 - val_accuracy: 0.9200\n",
            "Epoch 4/15\n",
            "40/40 [==============================] - 7s 167ms/step - loss: 0.0429 - accuracy: 0.9800 - val_loss: 0.1364 - val_accuracy: 0.9733\n",
            "Epoch 5/15\n",
            "40/40 [==============================] - 7s 174ms/step - loss: 0.0245 - accuracy: 0.9933 - val_loss: 0.1313 - val_accuracy: 0.9600\n",
            "Epoch 6/15\n",
            "40/40 [==============================] - 7s 166ms/step - loss: 0.0188 - accuracy: 0.9983 - val_loss: 0.0860 - val_accuracy: 0.9600\n",
            "Epoch 7/15\n",
            "40/40 [==============================] - 7s 168ms/step - loss: 0.0038 - accuracy: 0.9983 - val_loss: 0.1075 - val_accuracy: 0.9600\n",
            "Epoch 8/15\n",
            "40/40 [==============================] - 7s 168ms/step - loss: 0.0030 - accuracy: 1.0000 - val_loss: 0.1072 - val_accuracy: 0.9600\n",
            "Epoch 9/15\n",
            "40/40 [==============================] - 7s 170ms/step - loss: 0.0058 - accuracy: 0.9967 - val_loss: 0.1027 - val_accuracy: 0.9533\n",
            "Epoch 10/15\n",
            "40/40 [==============================] - 7s 170ms/step - loss: 0.0199 - accuracy: 0.9900 - val_loss: 0.1651 - val_accuracy: 0.9333\n",
            "Epoch 11/15\n",
            "40/40 [==============================] - 7s 168ms/step - loss: 0.0330 - accuracy: 0.9933 - val_loss: 0.3011 - val_accuracy: 0.9133\n",
            "Epoch 12/15\n",
            "40/40 [==============================] - 7s 167ms/step - loss: 0.0361 - accuracy: 0.9900 - val_loss: 0.1525 - val_accuracy: 0.9400\n",
            "Epoch 13/15\n",
            "40/40 [==============================] - 7s 167ms/step - loss: 0.0658 - accuracy: 0.9800 - val_loss: 0.6975 - val_accuracy: 0.8133\n",
            "Epoch 14/15\n",
            "40/40 [==============================] - 7s 168ms/step - loss: 0.0977 - accuracy: 0.9583 - val_loss: 3.1107 - val_accuracy: 0.6333\n",
            "Epoch 15/15\n",
            "40/40 [==============================] - 7s 167ms/step - loss: 0.0502 - accuracy: 0.9833 - val_loss: 0.5814 - val_accuracy: 0.8733\n"
          ]
        }
      ]
    },
    {
      "cell_type": "markdown",
      "metadata": {
        "id": "MZFI90ydpx0n"
      },
      "source": [
        "# Evaluate / Test"
      ]
    },
    {
      "cell_type": "code",
      "metadata": {
        "id": "xV8Jav30myg0"
      },
      "source": [
        "train_accuracy = history_model.history[X_train,Y_train]\n",
        "train_loss = history_model.history[X_test]\n",
        "\n",
        "count = range(len(train_accuracy))\n",
        "plt.plot(count, train_accuracy, label='Training accuracy')\n",
        "plt.plot(count, train_loss, label='Training Loss')\n",
        "plt.title('epochs vs Training Loss')\n",
        "plt.legend()\n"
      ],
      "execution_count": 66,
      "outputs": []
    },
    {
      "cell_type": "markdown",
      "metadata": {
        "id": "gBOEETB6qD3L"
      },
      "source": [
        "Evaluate Test set"
      ]
    },
    {
      "cell_type": "code",
      "metadata": {
        "id": "VNuzxr58m6bI",
        "colab": {
          "base_uri": "https://localhost:8080/"
        },
        "outputId": "99d23e06-e3e3-4735-cc60-7933d1ebff6e"
      },
      "source": [
        "res1= loss, acc = model.evaluate(X_train, Y_train, batch_size=15, verbose=0)\n",
        "print(res1)\n",
        "res2= loss, acc = model.evaluate(X_test, Y_test, batch_size=15, verbose=0)\n",
        "print(res2)"
      ],
      "execution_count": 67,
      "outputs": [
        {
          "output_type": "stream",
          "name": "stdout",
          "text": [
            "[0.34908172488212585, 0.8883333206176758]\n",
            "[0.5813596844673157, 0.8733333349227905]\n"
          ]
        }
      ]
    },
    {
      "cell_type": "markdown",
      "metadata": {
        "id": "hFC1nz5_p33b"
      },
      "source": [
        "Confusion Matrix"
      ]
    },
    {
      "cell_type": "code",
      "metadata": {
        "id": "iflIgFgnnIfv",
        "colab": {
          "base_uri": "https://localhost:8080/"
        },
        "outputId": "7656dec4-17b2-47ad-d0f7-f1330d342e61"
      },
      "source": [
        "# Code Here\n",
        "import tensorflow as tf\n",
        "\n",
        "Y_predict= model.predict(X_test)\n",
        "print(Y_predict)\n",
        "from sklearn.metrics import confusion_matrix\n",
        "cm=confusion_matrix(Y_test,tf.math.round(Y_predict))\n",
        "print(cm)"
      ],
      "execution_count": 73,
      "outputs": [
        {
          "output_type": "stream",
          "name": "stdout",
          "text": [
            "[[1.0000000e+00]\n",
            " [1.0000000e+00]\n",
            " [1.0000000e+00]\n",
            " [1.0000000e+00]\n",
            " [9.9915755e-01]\n",
            " [1.0000000e+00]\n",
            " [1.0000000e+00]\n",
            " [9.8793578e-01]\n",
            " [1.0000000e+00]\n",
            " [2.6390404e-02]\n",
            " [1.0000000e+00]\n",
            " [8.3585835e-01]\n",
            " [9.9967581e-01]\n",
            " [9.3170732e-01]\n",
            " [7.8527540e-02]\n",
            " [1.0000000e+00]\n",
            " [4.9254470e-07]\n",
            " [1.0000000e+00]\n",
            " [5.9783459e-04]\n",
            " [1.0000000e+00]\n",
            " [9.9819225e-01]\n",
            " [1.0000000e+00]\n",
            " [3.0957735e-01]\n",
            " [1.0000000e+00]\n",
            " [1.6996681e-07]\n",
            " [3.9929748e-03]\n",
            " [9.9999905e-01]\n",
            " [2.6856095e-01]\n",
            " [2.7414623e-01]\n",
            " [1.0000000e+00]\n",
            " [1.0000000e+00]\n",
            " [1.0000000e+00]\n",
            " [1.0000000e+00]\n",
            " [1.0000000e+00]\n",
            " [1.0000000e+00]\n",
            " [1.0000000e+00]\n",
            " [9.6922815e-01]\n",
            " [5.2775681e-02]\n",
            " [2.9042870e-02]\n",
            " [2.0979047e-03]\n",
            " [9.9996591e-01]\n",
            " [9.1600227e-01]\n",
            " [2.7177930e-03]\n",
            " [2.7814656e-02]\n",
            " [1.0000000e+00]\n",
            " [9.2741120e-01]\n",
            " [6.9452881e-06]\n",
            " [8.7454915e-04]\n",
            " [1.0000000e+00]\n",
            " [2.3178160e-03]\n",
            " [8.8012218e-04]\n",
            " [1.6317037e-01]\n",
            " [9.9999952e-01]\n",
            " [9.9995697e-01]\n",
            " [4.4453621e-02]\n",
            " [1.0000000e+00]\n",
            " [1.0000000e+00]\n",
            " [9.9997157e-01]\n",
            " [1.0000000e+00]\n",
            " [1.0000000e+00]\n",
            " [9.9964982e-01]\n",
            " [1.0000000e+00]\n",
            " [9.9895477e-01]\n",
            " [9.9978244e-01]\n",
            " [1.0000000e+00]\n",
            " [9.9998277e-01]\n",
            " [9.9999732e-01]\n",
            " [9.9996144e-01]\n",
            " [1.0000000e+00]\n",
            " [1.0000000e+00]\n",
            " [1.0000000e+00]\n",
            " [6.2572217e-01]\n",
            " [1.4487684e-02]\n",
            " [2.5185823e-01]\n",
            " [6.7597657e-01]\n",
            " [9.9999952e-01]\n",
            " [9.9999613e-01]\n",
            " [4.9313007e-06]\n",
            " [9.6881199e-01]\n",
            " [1.0000000e+00]\n",
            " [6.6142261e-02]\n",
            " [1.0000000e+00]\n",
            " [2.2035837e-04]\n",
            " [1.0000000e+00]\n",
            " [5.0376654e-03]\n",
            " [1.0000000e+00]\n",
            " [1.0000000e+00]\n",
            " [1.2967044e-01]\n",
            " [2.5892556e-03]\n",
            " [1.0000000e+00]\n",
            " [9.8083091e-01]\n",
            " [1.4071634e-01]\n",
            " [4.4822621e-01]\n",
            " [6.3919634e-02]\n",
            " [1.0000000e+00]\n",
            " [9.9889290e-01]\n",
            " [1.0000000e+00]\n",
            " [9.3298805e-01]\n",
            " [1.0000000e+00]\n",
            " [9.9999952e-01]\n",
            " [1.0000000e+00]\n",
            " [7.8872383e-02]\n",
            " [1.0000000e+00]\n",
            " [1.2246227e-01]\n",
            " [9.8836792e-01]\n",
            " [1.7798269e-01]\n",
            " [8.6070001e-03]\n",
            " [1.0000000e+00]\n",
            " [9.6278703e-01]\n",
            " [9.9476188e-01]\n",
            " [1.0000000e+00]\n",
            " [1.0000000e+00]\n",
            " [1.5215993e-02]\n",
            " [2.4293119e-01]\n",
            " [1.0000000e+00]\n",
            " [9.9999678e-01]\n",
            " [9.9995935e-01]\n",
            " [6.1168075e-02]\n",
            " [1.0000000e+00]\n",
            " [2.0851791e-01]\n",
            " [1.0000000e+00]\n",
            " [1.0000000e+00]\n",
            " [9.8759186e-01]\n",
            " [1.0000000e+00]\n",
            " [9.9990535e-01]\n",
            " [1.0000000e+00]\n",
            " [5.1420450e-02]\n",
            " [1.0000000e+00]\n",
            " [5.7372487e-01]\n",
            " [9.5860302e-02]\n",
            " [1.0000000e+00]\n",
            " [1.0000000e+00]\n",
            " [1.4692545e-03]\n",
            " [1.0000000e+00]\n",
            " [1.0000000e+00]\n",
            " [1.0000000e+00]\n",
            " [9.9956524e-01]\n",
            " [1.0000000e+00]\n",
            " [2.2696277e-01]\n",
            " [1.0000000e+00]\n",
            " [9.9999744e-01]\n",
            " [1.0000000e+00]\n",
            " [2.6445389e-03]\n",
            " [9.9998474e-01]\n",
            " [3.2045275e-01]\n",
            " [9.6412313e-01]\n",
            " [3.4756345e-01]\n",
            " [1.0000000e+00]\n",
            " [1.0000000e+00]\n",
            " [1.3722527e-01]]\n",
            "[[47 19]\n",
            " [ 0 84]]\n"
          ]
        }
      ]
    },
    {
      "cell_type": "code",
      "source": [
        ""
      ],
      "metadata": {
        "id": "kM0hYGBa99Jn"
      },
      "execution_count": null,
      "outputs": []
    },
    {
      "cell_type": "markdown",
      "metadata": {
        "id": "QQKL1aDLqjqU"
      },
      "source": [
        "# Note\n",
        "\n",
        "Before you submit your work \n",
        "\n",
        "* You should compare different optimizers\n",
        "\n",
        "---\n",
        "\n",
        "* Display images with Predicted & expected labels (Happy-sad)\n"
      ]
    },
    {
      "cell_type": "code",
      "metadata": {
        "id": "EW_BaM-9p69t"
      },
      "source": [
        ""
      ],
      "execution_count": null,
      "outputs": []
    }
  ]
}